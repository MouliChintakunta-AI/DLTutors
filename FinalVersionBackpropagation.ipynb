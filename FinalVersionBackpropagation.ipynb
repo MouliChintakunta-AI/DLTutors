{
  "nbformat": 4,
  "nbformat_minor": 0,
  "metadata": {
    "colab": {
      "provenance": [],
      "authorship_tag": "ABX9TyNpXqQNO3CPRzF3Rnr03MXe",
      "include_colab_link": true
    },
    "kernelspec": {
      "name": "python3",
      "display_name": "Python 3"
    },
    "language_info": {
      "name": "python"
    },
    "widgets": {
      "application/vnd.jupyter.widget-state+json": {
        "1f0e1a51ac874e769719290f56762405": {
          "model_module": "@jupyter-widgets/controls",
          "model_name": "HBoxModel",
          "model_module_version": "1.5.0",
          "state": {
            "_dom_classes": [],
            "_model_module": "@jupyter-widgets/controls",
            "_model_module_version": "1.5.0",
            "_model_name": "HBoxModel",
            "_view_count": null,
            "_view_module": "@jupyter-widgets/controls",
            "_view_module_version": "1.5.0",
            "_view_name": "HBoxView",
            "box_style": "",
            "children": [
              "IPY_MODEL_ba98af9bcf2b4863afdfda1ae1de4f14",
              "IPY_MODEL_a838f94516084bd5b52d861d505428d4",
              "IPY_MODEL_a75a563da021495f87077968236519ec"
            ],
            "layout": "IPY_MODEL_e1545e1f03d749eb82ad6a77e0693d76"
          }
        },
        "ba98af9bcf2b4863afdfda1ae1de4f14": {
          "model_module": "@jupyter-widgets/controls",
          "model_name": "HTMLModel",
          "model_module_version": "1.5.0",
          "state": {
            "_dom_classes": [],
            "_model_module": "@jupyter-widgets/controls",
            "_model_module_version": "1.5.0",
            "_model_name": "HTMLModel",
            "_view_count": null,
            "_view_module": "@jupyter-widgets/controls",
            "_view_module_version": "1.5.0",
            "_view_name": "HTMLView",
            "description": "",
            "description_tooltip": null,
            "layout": "IPY_MODEL_a7a07e826c2946858f279806009fdbd1",
            "placeholder": "​",
            "style": "IPY_MODEL_833ab041bc33486f92b6e0f494fa27b9",
            "value": "Training FFN: 100%"
          }
        },
        "a838f94516084bd5b52d861d505428d4": {
          "model_module": "@jupyter-widgets/controls",
          "model_name": "FloatProgressModel",
          "model_module_version": "1.5.0",
          "state": {
            "_dom_classes": [],
            "_model_module": "@jupyter-widgets/controls",
            "_model_module_version": "1.5.0",
            "_model_name": "FloatProgressModel",
            "_view_count": null,
            "_view_module": "@jupyter-widgets/controls",
            "_view_module_version": "1.5.0",
            "_view_name": "ProgressView",
            "bar_style": "success",
            "description": "",
            "description_tooltip": null,
            "layout": "IPY_MODEL_61549ccc02f04adb9cabd619e0a4b8a0",
            "max": 2000,
            "min": 0,
            "orientation": "horizontal",
            "style": "IPY_MODEL_bce473e24a8243548fd5dd4747e08eb6",
            "value": 2000
          }
        },
        "a75a563da021495f87077968236519ec": {
          "model_module": "@jupyter-widgets/controls",
          "model_name": "HTMLModel",
          "model_module_version": "1.5.0",
          "state": {
            "_dom_classes": [],
            "_model_module": "@jupyter-widgets/controls",
            "_model_module_version": "1.5.0",
            "_model_name": "HTMLModel",
            "_view_count": null,
            "_view_module": "@jupyter-widgets/controls",
            "_view_module_version": "1.5.0",
            "_view_name": "HTMLView",
            "description": "",
            "description_tooltip": null,
            "layout": "IPY_MODEL_64936cce059b46ee8dc223114b3aecf5",
            "placeholder": "​",
            "style": "IPY_MODEL_a0cde5fe08b4456b9c1093416d87861c",
            "value": " 2000/2000 [00:04&lt;00:00, 448.42Epoch/s]"
          }
        },
        "e1545e1f03d749eb82ad6a77e0693d76": {
          "model_module": "@jupyter-widgets/base",
          "model_name": "LayoutModel",
          "model_module_version": "1.2.0",
          "state": {
            "_model_module": "@jupyter-widgets/base",
            "_model_module_version": "1.2.0",
            "_model_name": "LayoutModel",
            "_view_count": null,
            "_view_module": "@jupyter-widgets/base",
            "_view_module_version": "1.2.0",
            "_view_name": "LayoutView",
            "align_content": null,
            "align_items": null,
            "align_self": null,
            "border": null,
            "bottom": null,
            "display": null,
            "flex": null,
            "flex_flow": null,
            "grid_area": null,
            "grid_auto_columns": null,
            "grid_auto_flow": null,
            "grid_auto_rows": null,
            "grid_column": null,
            "grid_gap": null,
            "grid_row": null,
            "grid_template_areas": null,
            "grid_template_columns": null,
            "grid_template_rows": null,
            "height": null,
            "justify_content": null,
            "justify_items": null,
            "left": null,
            "margin": null,
            "max_height": null,
            "max_width": null,
            "min_height": null,
            "min_width": null,
            "object_fit": null,
            "object_position": null,
            "order": null,
            "overflow": null,
            "overflow_x": null,
            "overflow_y": null,
            "padding": null,
            "right": null,
            "top": null,
            "visibility": null,
            "width": null
          }
        },
        "a7a07e826c2946858f279806009fdbd1": {
          "model_module": "@jupyter-widgets/base",
          "model_name": "LayoutModel",
          "model_module_version": "1.2.0",
          "state": {
            "_model_module": "@jupyter-widgets/base",
            "_model_module_version": "1.2.0",
            "_model_name": "LayoutModel",
            "_view_count": null,
            "_view_module": "@jupyter-widgets/base",
            "_view_module_version": "1.2.0",
            "_view_name": "LayoutView",
            "align_content": null,
            "align_items": null,
            "align_self": null,
            "border": null,
            "bottom": null,
            "display": null,
            "flex": null,
            "flex_flow": null,
            "grid_area": null,
            "grid_auto_columns": null,
            "grid_auto_flow": null,
            "grid_auto_rows": null,
            "grid_column": null,
            "grid_gap": null,
            "grid_row": null,
            "grid_template_areas": null,
            "grid_template_columns": null,
            "grid_template_rows": null,
            "height": null,
            "justify_content": null,
            "justify_items": null,
            "left": null,
            "margin": null,
            "max_height": null,
            "max_width": null,
            "min_height": null,
            "min_width": null,
            "object_fit": null,
            "object_position": null,
            "order": null,
            "overflow": null,
            "overflow_x": null,
            "overflow_y": null,
            "padding": null,
            "right": null,
            "top": null,
            "visibility": null,
            "width": null
          }
        },
        "833ab041bc33486f92b6e0f494fa27b9": {
          "model_module": "@jupyter-widgets/controls",
          "model_name": "DescriptionStyleModel",
          "model_module_version": "1.5.0",
          "state": {
            "_model_module": "@jupyter-widgets/controls",
            "_model_module_version": "1.5.0",
            "_model_name": "DescriptionStyleModel",
            "_view_count": null,
            "_view_module": "@jupyter-widgets/base",
            "_view_module_version": "1.2.0",
            "_view_name": "StyleView",
            "description_width": ""
          }
        },
        "61549ccc02f04adb9cabd619e0a4b8a0": {
          "model_module": "@jupyter-widgets/base",
          "model_name": "LayoutModel",
          "model_module_version": "1.2.0",
          "state": {
            "_model_module": "@jupyter-widgets/base",
            "_model_module_version": "1.2.0",
            "_model_name": "LayoutModel",
            "_view_count": null,
            "_view_module": "@jupyter-widgets/base",
            "_view_module_version": "1.2.0",
            "_view_name": "LayoutView",
            "align_content": null,
            "align_items": null,
            "align_self": null,
            "border": null,
            "bottom": null,
            "display": null,
            "flex": null,
            "flex_flow": null,
            "grid_area": null,
            "grid_auto_columns": null,
            "grid_auto_flow": null,
            "grid_auto_rows": null,
            "grid_column": null,
            "grid_gap": null,
            "grid_row": null,
            "grid_template_areas": null,
            "grid_template_columns": null,
            "grid_template_rows": null,
            "height": null,
            "justify_content": null,
            "justify_items": null,
            "left": null,
            "margin": null,
            "max_height": null,
            "max_width": null,
            "min_height": null,
            "min_width": null,
            "object_fit": null,
            "object_position": null,
            "order": null,
            "overflow": null,
            "overflow_x": null,
            "overflow_y": null,
            "padding": null,
            "right": null,
            "top": null,
            "visibility": null,
            "width": null
          }
        },
        "bce473e24a8243548fd5dd4747e08eb6": {
          "model_module": "@jupyter-widgets/controls",
          "model_name": "ProgressStyleModel",
          "model_module_version": "1.5.0",
          "state": {
            "_model_module": "@jupyter-widgets/controls",
            "_model_module_version": "1.5.0",
            "_model_name": "ProgressStyleModel",
            "_view_count": null,
            "_view_module": "@jupyter-widgets/base",
            "_view_module_version": "1.2.0",
            "_view_name": "StyleView",
            "bar_color": null,
            "description_width": ""
          }
        },
        "64936cce059b46ee8dc223114b3aecf5": {
          "model_module": "@jupyter-widgets/base",
          "model_name": "LayoutModel",
          "model_module_version": "1.2.0",
          "state": {
            "_model_module": "@jupyter-widgets/base",
            "_model_module_version": "1.2.0",
            "_model_name": "LayoutModel",
            "_view_count": null,
            "_view_module": "@jupyter-widgets/base",
            "_view_module_version": "1.2.0",
            "_view_name": "LayoutView",
            "align_content": null,
            "align_items": null,
            "align_self": null,
            "border": null,
            "bottom": null,
            "display": null,
            "flex": null,
            "flex_flow": null,
            "grid_area": null,
            "grid_auto_columns": null,
            "grid_auto_flow": null,
            "grid_auto_rows": null,
            "grid_column": null,
            "grid_gap": null,
            "grid_row": null,
            "grid_template_areas": null,
            "grid_template_columns": null,
            "grid_template_rows": null,
            "height": null,
            "justify_content": null,
            "justify_items": null,
            "left": null,
            "margin": null,
            "max_height": null,
            "max_width": null,
            "min_height": null,
            "min_width": null,
            "object_fit": null,
            "object_position": null,
            "order": null,
            "overflow": null,
            "overflow_x": null,
            "overflow_y": null,
            "padding": null,
            "right": null,
            "top": null,
            "visibility": null,
            "width": null
          }
        },
        "a0cde5fe08b4456b9c1093416d87861c": {
          "model_module": "@jupyter-widgets/controls",
          "model_name": "DescriptionStyleModel",
          "model_module_version": "1.5.0",
          "state": {
            "_model_module": "@jupyter-widgets/controls",
            "_model_module_version": "1.5.0",
            "_model_name": "DescriptionStyleModel",
            "_view_count": null,
            "_view_module": "@jupyter-widgets/base",
            "_view_module_version": "1.2.0",
            "_view_name": "StyleView",
            "description_width": ""
          }
        },
        "77a8721dbed447e6bf8b6dadc561b374": {
          "model_module": "@jupyter-widgets/controls",
          "model_name": "HBoxModel",
          "model_module_version": "1.5.0",
          "state": {
            "_dom_classes": [],
            "_model_module": "@jupyter-widgets/controls",
            "_model_module_version": "1.5.0",
            "_model_name": "HBoxModel",
            "_view_count": null,
            "_view_module": "@jupyter-widgets/controls",
            "_view_module_version": "1.5.0",
            "_view_name": "HBoxView",
            "box_style": "",
            "children": [
              "IPY_MODEL_872974aaf6134e09b7a39e68572492f5",
              "IPY_MODEL_5901de439c8c449ebd4cabb3e7334a97",
              "IPY_MODEL_95c7cc182d284df795be0fdb51e8b4a8"
            ],
            "layout": "IPY_MODEL_aa3f22439f924a39bec1d9f9ea9bcee7"
          }
        },
        "872974aaf6134e09b7a39e68572492f5": {
          "model_module": "@jupyter-widgets/controls",
          "model_name": "HTMLModel",
          "model_module_version": "1.5.0",
          "state": {
            "_dom_classes": [],
            "_model_module": "@jupyter-widgets/controls",
            "_model_module_version": "1.5.0",
            "_model_name": "HTMLModel",
            "_view_count": null,
            "_view_module": "@jupyter-widgets/controls",
            "_view_module_version": "1.5.0",
            "_view_name": "HTMLView",
            "description": "",
            "description_tooltip": null,
            "layout": "IPY_MODEL_3faac35792a1411c94151fb9359b6067",
            "placeholder": "​",
            "style": "IPY_MODEL_9ef870ff97ca4f8f8d010c045d80cc2b",
            "value": "Training FFN: 100%"
          }
        },
        "5901de439c8c449ebd4cabb3e7334a97": {
          "model_module": "@jupyter-widgets/controls",
          "model_name": "FloatProgressModel",
          "model_module_version": "1.5.0",
          "state": {
            "_dom_classes": [],
            "_model_module": "@jupyter-widgets/controls",
            "_model_module_version": "1.5.0",
            "_model_name": "FloatProgressModel",
            "_view_count": null,
            "_view_module": "@jupyter-widgets/controls",
            "_view_module_version": "1.5.0",
            "_view_name": "ProgressView",
            "bar_style": "success",
            "description": "",
            "description_tooltip": null,
            "layout": "IPY_MODEL_431aaf893f73470ca3b8f922507b3bc0",
            "max": 3000,
            "min": 0,
            "orientation": "horizontal",
            "style": "IPY_MODEL_41d101d9e2c4464999904bfc5c4f6314",
            "value": 3000
          }
        },
        "95c7cc182d284df795be0fdb51e8b4a8": {
          "model_module": "@jupyter-widgets/controls",
          "model_name": "HTMLModel",
          "model_module_version": "1.5.0",
          "state": {
            "_dom_classes": [],
            "_model_module": "@jupyter-widgets/controls",
            "_model_module_version": "1.5.0",
            "_model_name": "HTMLModel",
            "_view_count": null,
            "_view_module": "@jupyter-widgets/controls",
            "_view_module_version": "1.5.0",
            "_view_name": "HTMLView",
            "description": "",
            "description_tooltip": null,
            "layout": "IPY_MODEL_ce372f2e18ab48b6b9a3678c27bd1974",
            "placeholder": "​",
            "style": "IPY_MODEL_6866e5a34f284ca2a2686d61fe0f20bf",
            "value": " 3000/3000 [00:24&lt;00:00, 136.65Epoch/s]"
          }
        },
        "aa3f22439f924a39bec1d9f9ea9bcee7": {
          "model_module": "@jupyter-widgets/base",
          "model_name": "LayoutModel",
          "model_module_version": "1.2.0",
          "state": {
            "_model_module": "@jupyter-widgets/base",
            "_model_module_version": "1.2.0",
            "_model_name": "LayoutModel",
            "_view_count": null,
            "_view_module": "@jupyter-widgets/base",
            "_view_module_version": "1.2.0",
            "_view_name": "LayoutView",
            "align_content": null,
            "align_items": null,
            "align_self": null,
            "border": null,
            "bottom": null,
            "display": null,
            "flex": null,
            "flex_flow": null,
            "grid_area": null,
            "grid_auto_columns": null,
            "grid_auto_flow": null,
            "grid_auto_rows": null,
            "grid_column": null,
            "grid_gap": null,
            "grid_row": null,
            "grid_template_areas": null,
            "grid_template_columns": null,
            "grid_template_rows": null,
            "height": null,
            "justify_content": null,
            "justify_items": null,
            "left": null,
            "margin": null,
            "max_height": null,
            "max_width": null,
            "min_height": null,
            "min_width": null,
            "object_fit": null,
            "object_position": null,
            "order": null,
            "overflow": null,
            "overflow_x": null,
            "overflow_y": null,
            "padding": null,
            "right": null,
            "top": null,
            "visibility": null,
            "width": null
          }
        },
        "3faac35792a1411c94151fb9359b6067": {
          "model_module": "@jupyter-widgets/base",
          "model_name": "LayoutModel",
          "model_module_version": "1.2.0",
          "state": {
            "_model_module": "@jupyter-widgets/base",
            "_model_module_version": "1.2.0",
            "_model_name": "LayoutModel",
            "_view_count": null,
            "_view_module": "@jupyter-widgets/base",
            "_view_module_version": "1.2.0",
            "_view_name": "LayoutView",
            "align_content": null,
            "align_items": null,
            "align_self": null,
            "border": null,
            "bottom": null,
            "display": null,
            "flex": null,
            "flex_flow": null,
            "grid_area": null,
            "grid_auto_columns": null,
            "grid_auto_flow": null,
            "grid_auto_rows": null,
            "grid_column": null,
            "grid_gap": null,
            "grid_row": null,
            "grid_template_areas": null,
            "grid_template_columns": null,
            "grid_template_rows": null,
            "height": null,
            "justify_content": null,
            "justify_items": null,
            "left": null,
            "margin": null,
            "max_height": null,
            "max_width": null,
            "min_height": null,
            "min_width": null,
            "object_fit": null,
            "object_position": null,
            "order": null,
            "overflow": null,
            "overflow_x": null,
            "overflow_y": null,
            "padding": null,
            "right": null,
            "top": null,
            "visibility": null,
            "width": null
          }
        },
        "9ef870ff97ca4f8f8d010c045d80cc2b": {
          "model_module": "@jupyter-widgets/controls",
          "model_name": "DescriptionStyleModel",
          "model_module_version": "1.5.0",
          "state": {
            "_model_module": "@jupyter-widgets/controls",
            "_model_module_version": "1.5.0",
            "_model_name": "DescriptionStyleModel",
            "_view_count": null,
            "_view_module": "@jupyter-widgets/base",
            "_view_module_version": "1.2.0",
            "_view_name": "StyleView",
            "description_width": ""
          }
        },
        "431aaf893f73470ca3b8f922507b3bc0": {
          "model_module": "@jupyter-widgets/base",
          "model_name": "LayoutModel",
          "model_module_version": "1.2.0",
          "state": {
            "_model_module": "@jupyter-widgets/base",
            "_model_module_version": "1.2.0",
            "_model_name": "LayoutModel",
            "_view_count": null,
            "_view_module": "@jupyter-widgets/base",
            "_view_module_version": "1.2.0",
            "_view_name": "LayoutView",
            "align_content": null,
            "align_items": null,
            "align_self": null,
            "border": null,
            "bottom": null,
            "display": null,
            "flex": null,
            "flex_flow": null,
            "grid_area": null,
            "grid_auto_columns": null,
            "grid_auto_flow": null,
            "grid_auto_rows": null,
            "grid_column": null,
            "grid_gap": null,
            "grid_row": null,
            "grid_template_areas": null,
            "grid_template_columns": null,
            "grid_template_rows": null,
            "height": null,
            "justify_content": null,
            "justify_items": null,
            "left": null,
            "margin": null,
            "max_height": null,
            "max_width": null,
            "min_height": null,
            "min_width": null,
            "object_fit": null,
            "object_position": null,
            "order": null,
            "overflow": null,
            "overflow_x": null,
            "overflow_y": null,
            "padding": null,
            "right": null,
            "top": null,
            "visibility": null,
            "width": null
          }
        },
        "41d101d9e2c4464999904bfc5c4f6314": {
          "model_module": "@jupyter-widgets/controls",
          "model_name": "ProgressStyleModel",
          "model_module_version": "1.5.0",
          "state": {
            "_model_module": "@jupyter-widgets/controls",
            "_model_module_version": "1.5.0",
            "_model_name": "ProgressStyleModel",
            "_view_count": null,
            "_view_module": "@jupyter-widgets/base",
            "_view_module_version": "1.2.0",
            "_view_name": "StyleView",
            "bar_color": null,
            "description_width": ""
          }
        },
        "ce372f2e18ab48b6b9a3678c27bd1974": {
          "model_module": "@jupyter-widgets/base",
          "model_name": "LayoutModel",
          "model_module_version": "1.2.0",
          "state": {
            "_model_module": "@jupyter-widgets/base",
            "_model_module_version": "1.2.0",
            "_model_name": "LayoutModel",
            "_view_count": null,
            "_view_module": "@jupyter-widgets/base",
            "_view_module_version": "1.2.0",
            "_view_name": "LayoutView",
            "align_content": null,
            "align_items": null,
            "align_self": null,
            "border": null,
            "bottom": null,
            "display": null,
            "flex": null,
            "flex_flow": null,
            "grid_area": null,
            "grid_auto_columns": null,
            "grid_auto_flow": null,
            "grid_auto_rows": null,
            "grid_column": null,
            "grid_gap": null,
            "grid_row": null,
            "grid_template_areas": null,
            "grid_template_columns": null,
            "grid_template_rows": null,
            "height": null,
            "justify_content": null,
            "justify_items": null,
            "left": null,
            "margin": null,
            "max_height": null,
            "max_width": null,
            "min_height": null,
            "min_width": null,
            "object_fit": null,
            "object_position": null,
            "order": null,
            "overflow": null,
            "overflow_x": null,
            "overflow_y": null,
            "padding": null,
            "right": null,
            "top": null,
            "visibility": null,
            "width": null
          }
        },
        "6866e5a34f284ca2a2686d61fe0f20bf": {
          "model_module": "@jupyter-widgets/controls",
          "model_name": "DescriptionStyleModel",
          "model_module_version": "1.5.0",
          "state": {
            "_model_module": "@jupyter-widgets/controls",
            "_model_module_version": "1.5.0",
            "_model_name": "DescriptionStyleModel",
            "_view_count": null,
            "_view_module": "@jupyter-widgets/base",
            "_view_module_version": "1.2.0",
            "_view_name": "StyleView",
            "description_width": ""
          }
        }
      }
    }
  },
  "cells": [
    {
      "cell_type": "markdown",
      "metadata": {
        "id": "view-in-github",
        "colab_type": "text"
      },
      "source": [
        "<a href=\"https://colab.research.google.com/github/MouliChintakunta-AI/DLTutors/blob/main/FinalVersionBackpropagation.ipynb\" target=\"_parent\"><img src=\"https://colab.research.google.com/assets/colab-badge.svg\" alt=\"Open In Colab\"/></a>"
      ]
    },
    {
      "cell_type": "code",
      "execution_count": 1,
      "metadata": {
        "id": "8Xcfx6Xgs00k"
      },
      "outputs": [],
      "source": [
        "import numpy as np\n",
        "import matplotlib.pyplot as plt\n",
        "import matplotlib.colors\n",
        "from sklearn.metrics import accuracy_score,log_loss\n",
        "from sklearn.preprocessing import LabelBinarizer\n",
        "from sklearn.model_selection import train_test_split\n",
        "from sklearn.datasets import make_blobs\n",
        "from tqdm import tqdm_notebook"
      ]
    },
    {
      "cell_type": "code",
      "source": [
        "my_cmap = matplotlib.colors.LinearSegmentedColormap.from_list(\"Rainbow\",colors=[\"blue\",\"red\",'orange','green','yellow'])"
      ],
      "metadata": {
        "id": "QGMPNxRMuLlm"
      },
      "execution_count": 8,
      "outputs": []
    },
    {
      "cell_type": "code",
      "source": [
        "data,labels = make_blobs(n_features=9,n_samples=1000,centers=5,random_state=0)"
      ],
      "metadata": {
        "id": "55K1zWqtucmZ"
      },
      "execution_count": 24,
      "outputs": []
    },
    {
      "cell_type": "code",
      "source": [
        "plt.scatter(data[:,0],data[:,1],c=labels,cmap=my_cmap)"
      ],
      "metadata": {
        "colab": {
          "base_uri": "https://localhost:8080/",
          "height": 448
        },
        "id": "aUxDnWcmutVt",
        "outputId": "0df82933-c581-4550-b951-13442477f18b"
      },
      "execution_count": 25,
      "outputs": [
        {
          "output_type": "execute_result",
          "data": {
            "text/plain": [
              "<matplotlib.collections.PathCollection at 0x7d7e32a60550>"
            ]
          },
          "metadata": {},
          "execution_count": 25
        },
        {
          "output_type": "display_data",
          "data": {
            "text/plain": [
              "<Figure size 640x480 with 1 Axes>"
            ],
            "image/png": "[encoded data removed]"
          },
          "metadata": {}
        }
      ]
    },
    {
      "cell_type": "code",
      "source": [
        "X_train,X_test,Y_train,Y_test = train_test_split(data,labels,stratify = labels,random_state= 0)"
      ],
      "metadata": {
        "id": "sVHrLdf2uzaQ"
      },
      "execution_count": 17,
      "outputs": []
    },
    {
      "cell_type": "code",
      "source": [
        "lb = LabelBinarizer()\n",
        "Y_train_oh = lb.fit_transform(Y_train)"
      ],
      "metadata": {
        "id": "lMMZAE0cvRu7"
      },
      "execution_count": 18,
      "outputs": []
    },
    {
      "cell_type": "code",
      "source": [
        "np.random.seed(0)"
      ],
      "metadata": {
        "id": "OQs73cZjvY7B"
      },
      "execution_count": 19,
      "outputs": []
    },
    {
      "cell_type": "code",
      "source": [
        "class VBackpropagation:\n",
        "  def __init__(self,n_inputs,n_outputs,hidden=[2]):\n",
        "    self.nx = n_inputs\n",
        "    self.ny = n_outputs\n",
        "    self.nh = len(hidden)\n",
        "    self.sizes = [self.nx] + hidden + [self.ny] # [ 9 2 5]\n",
        "    self.W = {}\n",
        "    self.B = {}\n",
        "    for i in range(self.nh+1):\n",
        "      self.W[i+1] = np.random.randn(self.sizes[i],self.sizes[i+1])\n",
        "      self.B[i+1] = np.zeros((1,self.sizes[i+1]))\n",
        "\n",
        "  def sigmoid(self,X):\n",
        "    return 1.0 / (1.0 + np.exp(-X))\n",
        "\n",
        "  def grad_sigmoid(self,X):\n",
        "    return X*(1-X)\n",
        "\n",
        "  def softmax(self,X):\n",
        "    exp = np.exp(X)\n",
        "    return exp/np.sum(exp,1).reshape(-1,1)\n",
        "\n",
        "  def forward_pass(self,X):\n",
        "    self.A = {}\n",
        "    self.H = {}\n",
        "    self.H[0] = X\n",
        "    for i in range(self.nh+1): #[]\n",
        "      self.A[i+1] = np.matmul(self.H[i],self.W[i+1]) + self.B[i+1]\n",
        "      if self.ny == 1 or i < self.nh:\n",
        "        self.H[i+1] = self.sigmoid(self.A[i+1])\n",
        "      else:\n",
        "        self.H[i+1] = self.softmax(self.A[i+1])\n",
        "    return self.H[self.nh+1]\n",
        "\n",
        "  def grad(self,X,Y):\n",
        "    self.forward_pass(X)\n",
        "    self.dH = {}\n",
        "    self.dA = {}\n",
        "    self.dW = {}\n",
        "    self.dB = {}\n",
        "    L = self.nh+1\n",
        "    self.dA[L] = self.H[L] - Y\n",
        "    for k in range(L,0,-1):\n",
        "      self.dW[k] = np.matmul(self.H[k-1].T,self.dA[k])\n",
        "      self.dB[k] = np.sum(self.dA[k],0).reshape(1,-1)\n",
        "      self.dH[k-1] = np.matmul(self.dA[k],self.W[k].T)\n",
        "      self.dA[k-1] = np.multiply(self.dH[k-1],self.grad_sigmoid(self.H[k-1]))\n",
        "\n",
        "  def fit(self,X,Y,learning_rate = 0.2,epochs = 2000,display_loss =True):\n",
        "    if display_loss:\n",
        "      loss = {}\n",
        "    for epoch in tqdm_notebook(range(epochs),desc = \"Training FFN\" , unit= \"Epoch\"):\n",
        "      self.grad(X,Y)\n",
        "      m = X.shape[0]\n",
        "      for i in range(self.nh+1):\n",
        "        self.W[i+1] -= learning_rate * (self.dW[i+1]/m)\n",
        "        self.B[i+1] -= learning_rate * (self.dB[i+1]/m)\n",
        "      if display_loss:\n",
        "        y_pred = self.predict(X)\n",
        "        loss[epoch] = log_loss(Y,y_pred)\n",
        "    if display_loss:\n",
        "      plt.plot(loss.values())\n",
        "      plt.xlabel(\"Epochs\")\n",
        "      plt.ylabel(\"Log-Loss\")\n",
        "      plt.show()\n",
        "\n",
        "  def predict(self,X):\n",
        "    y_pred = self.forward_pass(X)\n",
        "    return y_pred.squeeze()"
      ],
      "metadata": {
        "id": "jfH5GPK7vaot"
      },
      "execution_count": 38,
      "outputs": []
    },
    {
      "cell_type": "code",
      "source": [
        "np.exp([1,2,4,6])/np.sum([[1,2,4,6],[3,4,1,1],[3,5,8,2]],1).reshape(-1,1)"
      ],
      "metadata": {
        "colab": {
          "base_uri": "https://localhost:8080/"
        },
        "id": "GwXLeCHgzyIJ",
        "outputId": "ef9a8bbd-edef-4097-c975-19b24a5caa51"
      },
      "execution_count": 39,
      "outputs": [
        {
          "output_type": "execute_result",
          "data": {
            "text/plain": [
              "array([[ 0.2090986 ,  0.56838893,  4.19985769, 31.03298411],\n",
              "       [ 0.30203131,  0.82100623,  6.06646111, 44.8254215 ],\n",
              "       [ 0.15101566,  0.41050312,  3.03323056, 22.41271075]])"
            ]
          },
          "metadata": {},
          "execution_count": 39
        }
      ]
    },
    {
      "cell_type": "code",
      "source": [
        "model = VBackpropagation(n_inputs = X_train.shape[1],n_outputs = Y_train_oh.shape[1],hidden= [9])\n",
        "model.fit(X_train,Y_train_oh,epochs = 3000,learning_rate=.06)"
      ],
      "metadata": {
        "colab": {
          "base_uri": "https://localhost:8080/",
          "height": 535,
          "referenced_widgets": [
            "1f0e1a51ac874e769719290f56762405",
            "ba98af9bcf2b4863afdfda1ae1de4f14",
            "a838f94516084bd5b52d861d505428d4",
            "a75a563da021495f87077968236519ec",
            "e1545e1f03d749eb82ad6a77e0693d76",
            "a7a07e826c2946858f279806009fdbd1",
            "833ab041bc33486f92b6e0f494fa27b9",
            "61549ccc02f04adb9cabd619e0a4b8a0",
            "bce473e24a8243548fd5dd4747e08eb6",
            "64936cce059b46ee8dc223114b3aecf5",
            "a0cde5fe08b4456b9c1093416d87861c"
          ]
        },
        "id": "EHQXltAWz4gj",
        "outputId": "60e299bd-dc59-4cba-aa86-b7565c28b992"
      },
      "execution_count": 41,
      "outputs": [
        {
          "output_type": "stream",
          "name": "stderr",
          "text": [
            "<ipython-input-38-8c4088e08b85>:52: TqdmDeprecationWarning: This function will be removed in tqdm==5.0.0\n",
            "Please use `tqdm.notebook.tqdm` instead of `tqdm.tqdm_notebook`\n",
            "  for epoch in tqdm_notebook(range(epochs),desc = \"Training FFN\" , unit= \"Epoch\"):\n"
          ]
        },
        {
          "output_type": "display_data",
          "data": {
            "text/plain": [
              "Training FFN:   0%|          | 0/2000 [00:00<?, ?Epoch/s]"
            ],
            "application/vnd.jupyter.widget-view+json": {
              "version_major": 2,
              "version_minor": 0,
              "model_id": "1f0e1a51ac874e769719290f56762405"
            }
          },
          "metadata": {}
        },
        {
          "output_type": "display_data",
          "data": {
            "text/plain": [
              "<Figure size 640x480 with 1 Axes>"
            ],
            "image/png": "[encoded data removed]"
          },
          "metadata": {}
        }
      ]
    },
    {
      "cell_type": "code",
      "source": [
        "y_train_pred = model.predict(X_train)\n",
        "Y_train_pred = np.argmax(y_train_pred,1)\n",
        "print(\"Training Accuracy:\",accuracy_score(Y_train,Y_train_pred))\n",
        "\n",
        "y_test_pred = model.predict(X_test)\n",
        "Y_test_pred = np.argmax(y_test_pred,1)\n",
        "print(\"Test Accuracy:\",accuracy_score(Y_test,Y_test_pred))"
      ],
      "metadata": {
        "colab": {
          "base_uri": "https://localhost:8080/"
        },
        "id": "f2IhtE8i2Qx2",
        "outputId": "1562b0b3-f740-4b9c-f4d6-7010c935c884"
      },
      "execution_count": 55,
      "outputs": [
        {
          "output_type": "stream",
          "name": "stdout",
          "text": [
            "Training Accuracy: 0.912\n",
            "Test Accuracy: 0.928\n"
          ]
        }
      ]
    },
    {
      "cell_type": "code",
      "source": [
        "plt.scatter(X_test[:,0],X_test[:,1],c=Y_test,cmap=my_cmap,s= 10 * np.abs(Y_test - Y_test_pred) + .3 )"
      ],
      "metadata": {
        "colab": {
          "base_uri": "https://localhost:8080/",
          "height": 448
        },
        "id": "cmRDRFKi638Q",
        "outputId": "c84e1d3a-a3e9-41f2-8980-367a34cca6f8"
      },
      "execution_count": 56,
      "outputs": [
        {
          "output_type": "execute_result",
          "data": {
            "text/plain": [
              "<matplotlib.collections.PathCollection at 0x7d7e328c3c10>"
            ]
          },
          "metadata": {},
          "execution_count": 56
        },
        {
          "output_type": "display_data",
          "data": {
            "text/plain": [
              "<Figure size 640x480 with 1 Axes>"
            ],
            "image/png": "[encoded data removed]"
          },
          "metadata": {}
        }
      ]
    },
    {
      "cell_type": "code",
      "source": [
        "model1 = VBackpropagation(n_inputs = X_train.shape[1],n_outputs = Y_train_oh.shape[1],hidden= [9,16,32])\n",
        "model1.fit(X_train,Y_train_oh,epochs = 3000,learning_rate=.09)\n",
        "\n",
        "y_train_pred = model1.predict(X_train)\n",
        "Y_train_pred = np.argmax(y_train_pred,1)\n",
        "print(\"Training Accuracy:\",accuracy_score(Y_train,Y_train_pred))\n",
        "\n",
        "y_test_pred = model1.predict(X_test)\n",
        "Y_test_pred = np.argmax(y_test_pred,1)\n",
        "print(\"Test Accuracy:\",accuracy_score(Y_test,Y_test_pred))"
      ],
      "metadata": {
        "colab": {
          "base_uri": "https://localhost:8080/",
          "height": 570,
          "referenced_widgets": [
            "77a8721dbed447e6bf8b6dadc561b374",
            "872974aaf6134e09b7a39e68572492f5",
            "5901de439c8c449ebd4cabb3e7334a97",
            "95c7cc182d284df795be0fdb51e8b4a8",
            "aa3f22439f924a39bec1d9f9ea9bcee7",
            "3faac35792a1411c94151fb9359b6067",
            "9ef870ff97ca4f8f8d010c045d80cc2b",
            "431aaf893f73470ca3b8f922507b3bc0",
            "41d101d9e2c4464999904bfc5c4f6314",
            "ce372f2e18ab48b6b9a3678c27bd1974",
            "6866e5a34f284ca2a2686d61fe0f20bf"
          ]
        },
        "id": "oc5OVYji3pf6",
        "outputId": "c1ac7d05-b566-4d0d-9200-f8105f3e6894"
      },
      "execution_count": 53,
      "outputs": [
        {
          "output_type": "stream",
          "name": "stderr",
          "text": [
            "<ipython-input-38-8c4088e08b85>:52: TqdmDeprecationWarning: This function will be removed in tqdm==5.0.0\n",
            "Please use `tqdm.notebook.tqdm` instead of `tqdm.tqdm_notebook`\n",
            "  for epoch in tqdm_notebook(range(epochs),desc = \"Training FFN\" , unit= \"Epoch\"):\n"
          ]
        },
        {
          "output_type": "display_data",
          "data": {
            "text/plain": [
              "Training FFN:   0%|          | 0/3000 [00:00<?, ?Epoch/s]"
            ],
            "application/vnd.jupyter.widget-view+json": {
              "version_major": 2,
              "version_minor": 0,
              "model_id": "77a8721dbed447e6bf8b6dadc561b374"
            }
          },
          "metadata": {}
        },
        {
          "output_type": "display_data",
          "data": {
            "text/plain": [
              "<Figure size 640x480 with 1 Axes>"
            ],
            "image/png": "[encoded data removed]"
          },
          "metadata": {}
        },
        {
          "output_type": "stream",
          "name": "stdout",
          "text": [
            "Training Accuracy: 0.9466666666666667\n",
            "Test Accuracy: 0.952\n"
          ]
        }
      ]
    },
    {
      "cell_type": "code",
      "source": [
        "plt.scatter(X_test[:,0],X_test[:,1],c=Y_test,cmap=my_cmap,s= 10 * np.abs(Y_test - Y_test_pred) + .3 )"
      ],
      "metadata": {
        "colab": {
          "base_uri": "https://localhost:8080/",
          "height": 448
        },
        "id": "4rJl__Ac32qw",
        "outputId": "8efa18b1-ae64-4571-a59a-bc750401537b"
      },
      "execution_count": 54,
      "outputs": [
        {
          "output_type": "execute_result",
          "data": {
            "text/plain": [
              "<matplotlib.collections.PathCollection at 0x7d7e32a88580>"
            ]
          },
          "metadata": {},
          "execution_count": 54
        },
        {
          "output_type": "display_data",
          "data": {
            "text/plain": [
              "<Figure size 640x480 with 1 Axes>"
            ],
            "image/png": "[encoded data removed]"
          },
          "metadata": {}
        }
      ]
    },
    {
      "cell_type": "code",
      "source": [],
      "metadata": {
        "id": "TMXFhVWq4pHL"
      },
      "execution_count": null,
      "outputs": []
    }
  ]
}
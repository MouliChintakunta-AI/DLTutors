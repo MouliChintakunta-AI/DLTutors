{
  "nbformat": 4,
  "nbformat_minor": 0,
  "metadata": {
    "colab": {
      "provenance": [],
      "authorship_tag": "ABX9TyNv3u81QG4N/QMXirdZJiUT",
      "include_colab_link": true
    },
    "kernelspec": {
      "name": "python3",
      "display_name": "Python 3"
    },
    "language_info": {
      "name": "python"
    }
  },
  "cells": [
    {
      "cell_type": "markdown",
      "metadata": {
        "id": "view-in-github",
        "colab_type": "text"
      },
      "source": [
        "<a href=\"https://colab.research.google.com/github/MouliChintakunta-AI/DLTutors/blob/main/Mobile_Like_or_Dislike_Predictor.ipynb\" target=\"_parent\"><img src=\"https://colab.research.google.com/assets/colab-badge.svg\" alt=\"Open In Colab\"/></a>"
      ]
    },
    {
      "cell_type": "code",
      "source": [
        "import pandas as pd\n",
        "import numpy as np\n",
        "import matplotlib.pyplot as plt\n",
        "from sklearn.model_selection import train_test_split\n",
        "from sklearn.metrics import accuracy_score\n",
        "from numpy.random import random"
      ],
      "metadata": {
        "id": "nnaC9oSaZt8C"
      },
      "execution_count": null,
      "outputs": []
    },
    {
      "cell_type": "code",
      "source": [
        "mobile_data = pd.read_csv(\"./sample_data/mobile_cleaned_train.csv\")"
      ],
      "metadata": {
        "id": "pgwkXeRKaj2l"
      },
      "execution_count": null,
      "outputs": []
    },
    {
      "cell_type": "code",
      "source": [
        "mobile_data.shape"
      ],
      "metadata": {
        "colab": {
          "base_uri": "https://localhost:8080/"
        },
        "id": "Jvq5BuhlaqvZ",
        "outputId": "986104cf-e2ca-4488-a210-f1c562472e8f"
      },
      "execution_count": null,
      "outputs": [
        {
          "output_type": "execute_result",
          "data": {
            "text/plain": [
              "(318, 86)"
            ]
          },
          "metadata": {},
          "execution_count": 5
        }
      ]
    },
    {
      "cell_type": "code",
      "source": [
        "mobile_data[mobile_data['Rating'] > 3.5].count()"
      ],
      "metadata": {
        "colab": {
          "base_uri": "https://localhost:8080/"
        },
        "id": "Es_4R1S97ggx",
        "outputId": "77eb7244-0bb2-4dcf-c796-8ed28fdb0147"
      },
      "execution_count": null,
      "outputs": [
        {
          "output_type": "execute_result",
          "data": {
            "text/plain": [
              "PhoneId                                      283\n",
              "Processor_frequency                          283\n",
              "Pixel Density                                283\n",
              "Weight                                       283\n",
              "Internal Memory                              283\n",
              "                                            ... \n",
              "SIM Slot(s)_Dual SIM, GSM+GSM                283\n",
              "SIM Slot(s)_Dual SIM, GSM+GSM, Dual VoLTE    283\n",
              "SIM Slot(s)_Single SIM, GSM                  283\n",
              "Rating                                       283\n",
              "target                                       283\n",
              "Length: 87, dtype: int64"
            ]
          },
          "metadata": {},
          "execution_count": 36
        }
      ]
    },
    {
      "cell_type": "code",
      "source": [
        "mobile_data.head()"
      ],
      "metadata": {
        "colab": {
          "base_uri": "https://localhost:8080/",
          "height": 369
        },
        "id": "7xRdtFOgasJ6",
        "outputId": "8add704e-04c0-45f7-f420-c4a326d4cdcd"
      },
      "execution_count": null,
      "outputs": [
        {
          "output_type": "execute_result",
          "data": {
            "text/plain": [
              "   PhoneId  Processor_frequency  Pixel Density  Weight  Internal Memory  \\\n",
              "0        0                  1.8            403     182               64   \n",
              "1        1                  1.8            271     168               32   \n",
              "2        2                  2.1            409     168               32   \n",
              "3        4                  2.2            411     169               64   \n",
              "4        5                  2.2            396     175               64   \n",
              "\n",
              "   Height  Screen to Body Ratio (calculated)  Capacity  Screen Size  \\\n",
              "0   157.9                              80.68      4000         6.26   \n",
              "1   156.2                              80.85      4230         6.20   \n",
              "2   157.0                              83.68      3500         6.30   \n",
              "3   159.8                              74.78      3300         6.00   \n",
              "4   160.4                              84.23      3750         6.50   \n",
              "\n",
              "   Resolution  ...  Num_cores_Octa  Num_cores_Other  Num_cores_Quad  \\\n",
              "0          20  ...               1                0               0   \n",
              "1           8  ...               1                0               0   \n",
              "2          25  ...               1                0               0   \n",
              "3          24  ...               1                0               0   \n",
              "4          16  ...               1                0               0   \n",
              "\n",
              "   Num_cores_Tru-Octa  SIM Slot(s)_Dual SIM, GSM+CDMA  \\\n",
              "0                   0                               0   \n",
              "1                   0                               0   \n",
              "2                   0                               0   \n",
              "3                   0                               0   \n",
              "4                   0                               0   \n",
              "\n",
              "   SIM Slot(s)_Dual SIM, GSM+GSM  SIM Slot(s)_Dual SIM, GSM+GSM, Dual VoLTE  \\\n",
              "0                              0                                          1   \n",
              "1                              0                                          1   \n",
              "2                              0                                          1   \n",
              "3                              1                                          0   \n",
              "4                              0                                          1   \n",
              "\n",
              "   SIM Slot(s)_Single SIM, GSM  Rating  target  \n",
              "0                            0     4.5       1  \n",
              "1                            0     4.5       1  \n",
              "2                            0     4.4       1  \n",
              "3                            0     4.3       1  \n",
              "4                            0     4.4       1  \n",
              "\n",
              "[5 rows x 87 columns]"
            ],
            "text/html": [
              "\n",
              "  <div id=\"df-19b4b7e6-bbad-426e-84e2-5620483461eb\">\n",
              "    <div class=\"colab-df-container\">\n",
              "      <div>\n",
              "<style scoped>\n",
              "    .dataframe tbody tr th:only-of-type {\n",
              "        vertical-align: middle;\n",
              "    }\n",
              "\n",
              "    .dataframe tbody tr th {\n",
              "        vertical-align: top;\n",
              "    }\n",
              "\n",
              "    .dataframe thead th {\n",
              "        text-align: right;\n",
              "    }\n",
              "</style>\n",
              "<table border=\"1\" class=\"dataframe\">\n",
              "  <thead>\n",
              "    <tr style=\"text-align: right;\">\n",
              "      <th></th>\n",
              "      <th>PhoneId</th>\n",
              "      <th>Processor_frequency</th>\n",
              "      <th>Pixel Density</th>\n",
              "      <th>Weight</th>\n",
              "      <th>Internal Memory</th>\n",
              "      <th>Height</th>\n",
              "      <th>Screen to Body Ratio (calculated)</th>\n",
              "      <th>Capacity</th>\n",
              "      <th>Screen Size</th>\n",
              "      <th>Resolution</th>\n",
              "      <th>...</th>\n",
              "      <th>Num_cores_Octa</th>\n",
              "      <th>Num_cores_Other</th>\n",
              "      <th>Num_cores_Quad</th>\n",
              "      <th>Num_cores_Tru-Octa</th>\n",
              "      <th>SIM Slot(s)_Dual SIM, GSM+CDMA</th>\n",
              "      <th>SIM Slot(s)_Dual SIM, GSM+GSM</th>\n",
              "      <th>SIM Slot(s)_Dual SIM, GSM+GSM, Dual VoLTE</th>\n",
              "      <th>SIM Slot(s)_Single SIM, GSM</th>\n",
              "      <th>Rating</th>\n",
              "      <th>target</th>\n",
              "    </tr>\n",
              "  </thead>\n",
              "  <tbody>\n",
              "    <tr>\n",
              "      <th>0</th>\n",
              "      <td>0</td>\n",
              "      <td>1.8</td>\n",
              "      <td>403</td>\n",
              "      <td>182</td>\n",
              "      <td>64</td>\n",
              "      <td>157.9</td>\n",
              "      <td>80.68</td>\n",
              "      <td>4000</td>\n",
              "      <td>6.26</td>\n",
              "      <td>20</td>\n",
              "      <td>...</td>\n",
              "      <td>1</td>\n",
              "      <td>0</td>\n",
              "      <td>0</td>\n",
              "      <td>0</td>\n",
              "      <td>0</td>\n",
              "      <td>0</td>\n",
              "      <td>1</td>\n",
              "      <td>0</td>\n",
              "      <td>4.5</td>\n",
              "      <td>1</td>\n",
              "    </tr>\n",
              "    <tr>\n",
              "      <th>1</th>\n",
              "      <td>1</td>\n",
              "      <td>1.8</td>\n",
              "      <td>271</td>\n",
              "      <td>168</td>\n",
              "      <td>32</td>\n",
              "      <td>156.2</td>\n",
              "      <td>80.85</td>\n",
              "      <td>4230</td>\n",
              "      <td>6.20</td>\n",
              "      <td>8</td>\n",
              "      <td>...</td>\n",
              "      <td>1</td>\n",
              "      <td>0</td>\n",
              "      <td>0</td>\n",
              "      <td>0</td>\n",
              "      <td>0</td>\n",
              "      <td>0</td>\n",
              "      <td>1</td>\n",
              "      <td>0</td>\n",
              "      <td>4.5</td>\n",
              "      <td>1</td>\n",
              "    </tr>\n",
              "    <tr>\n",
              "      <th>2</th>\n",
              "      <td>2</td>\n",
              "      <td>2.1</td>\n",
              "      <td>409</td>\n",
              "      <td>168</td>\n",
              "      <td>32</td>\n",
              "      <td>157.0</td>\n",
              "      <td>83.68</td>\n",
              "      <td>3500</td>\n",
              "      <td>6.30</td>\n",
              "      <td>25</td>\n",
              "      <td>...</td>\n",
              "      <td>1</td>\n",
              "      <td>0</td>\n",
              "      <td>0</td>\n",
              "      <td>0</td>\n",
              "      <td>0</td>\n",
              "      <td>0</td>\n",
              "      <td>1</td>\n",
              "      <td>0</td>\n",
              "      <td>4.4</td>\n",
              "      <td>1</td>\n",
              "    </tr>\n",
              "    <tr>\n",
              "      <th>3</th>\n",
              "      <td>4</td>\n",
              "      <td>2.2</td>\n",
              "      <td>411</td>\n",
              "      <td>169</td>\n",
              "      <td>64</td>\n",
              "      <td>159.8</td>\n",
              "      <td>74.78</td>\n",
              "      <td>3300</td>\n",
              "      <td>6.00</td>\n",
              "      <td>24</td>\n",
              "      <td>...</td>\n",
              "      <td>1</td>\n",
              "      <td>0</td>\n",
              "      <td>0</td>\n",
              "      <td>0</td>\n",
              "      <td>0</td>\n",
              "      <td>1</td>\n",
              "      <td>0</td>\n",
              "      <td>0</td>\n",
              "      <td>4.3</td>\n",
              "      <td>1</td>\n",
              "    </tr>\n",
              "    <tr>\n",
              "      <th>4</th>\n",
              "      <td>5</td>\n",
              "      <td>2.2</td>\n",
              "      <td>396</td>\n",
              "      <td>175</td>\n",
              "      <td>64</td>\n",
              "      <td>160.4</td>\n",
              "      <td>84.23</td>\n",
              "      <td>3750</td>\n",
              "      <td>6.50</td>\n",
              "      <td>16</td>\n",
              "      <td>...</td>\n",
              "      <td>1</td>\n",
              "      <td>0</td>\n",
              "      <td>0</td>\n",
              "      <td>0</td>\n",
              "      <td>0</td>\n",
              "      <td>0</td>\n",
              "      <td>1</td>\n",
              "      <td>0</td>\n",
              "      <td>4.4</td>\n",
              "      <td>1</td>\n",
              "    </tr>\n",
              "  </tbody>\n",
              "</table>\n",
              "<p>5 rows × 87 columns</p>\n",
              "</div>\n",
              "      <button class=\"colab-df-convert\" onclick=\"convertToInteractive('df-19b4b7e6-bbad-426e-84e2-5620483461eb')\"\n",
              "              title=\"Convert this dataframe to an interactive table.\"\n",
              "              style=\"display:none;\">\n",
              "        \n",
              "  <svg xmlns=\"http://www.w3.org/2000/svg\" height=\"24px\"viewBox=\"0 0 24 24\"\n",
              "       width=\"24px\">\n",
              "    <path d=\"M0 0h24v24H0V0z\" fill=\"none\"/>\n",
              "    <path d=\"M18.56 5.44l.94 2.06.94-2.06 2.06-.94-2.06-.94-.94-2.06-.94 2.06-2.06.94zm-11 1L8.5 8.5l.94-2.06 2.06-.94-2.06-.94L8.5 2.5l-.94 2.06-2.06.94zm10 10l.94 2.06.94-2.06 2.06-.94-2.06-.94-.94-2.06-.94 2.06-2.06.94z\"/><path d=\"M17.41 7.96l-1.37-1.37c-.4-.4-.92-.59-1.43-.59-.52 0-1.04.2-1.43.59L10.3 9.45l-7.72 7.72c-.78.78-.78 2.05 0 2.83L4 21.41c.39.39.9.59 1.41.59.51 0 1.02-.2 1.41-.59l7.78-7.78 2.81-2.81c.8-.78.8-2.07 0-2.86zM5.41 20L4 18.59l7.72-7.72 1.47 1.35L5.41 20z\"/>\n",
              "  </svg>\n",
              "      </button>\n",
              "      \n",
              "  <style>\n",
              "    .colab-df-container {\n",
              "      display:flex;\n",
              "      flex-wrap:wrap;\n",
              "      gap: 12px;\n",
              "    }\n",
              "\n",
              "    .colab-df-convert {\n",
              "      background-color: #E8F0FE;\n",
              "      border: none;\n",
              "      border-radius: 50%;\n",
              "      cursor: pointer;\n",
              "      display: none;\n",
              "      fill: #1967D2;\n",
              "      height: 32px;\n",
              "      padding: 0 0 0 0;\n",
              "      width: 32px;\n",
              "    }\n",
              "\n",
              "    .colab-df-convert:hover {\n",
              "      background-color: #E2EBFA;\n",
              "      box-shadow: 0px 1px 2px rgba(60, 64, 67, 0.3), 0px 1px 3px 1px rgba(60, 64, 67, 0.15);\n",
              "      fill: #174EA6;\n",
              "    }\n",
              "\n",
              "    [theme=dark] .colab-df-convert {\n",
              "      background-color: #3B4455;\n",
              "      fill: #D2E3FC;\n",
              "    }\n",
              "\n",
              "    [theme=dark] .colab-df-convert:hover {\n",
              "      background-color: #434B5C;\n",
              "      box-shadow: 0px 1px 3px 1px rgba(0, 0, 0, 0.15);\n",
              "      filter: drop-shadow(0px 1px 2px rgba(0, 0, 0, 0.3));\n",
              "      fill: #FFFFFF;\n",
              "    }\n",
              "  </style>\n",
              "\n",
              "      <script>\n",
              "        const buttonEl =\n",
              "          document.querySelector('#df-19b4b7e6-bbad-426e-84e2-5620483461eb button.colab-df-convert');\n",
              "        buttonEl.style.display =\n",
              "          google.colab.kernel.accessAllowed ? 'block' : 'none';\n",
              "\n",
              "        async function convertToInteractive(key) {\n",
              "          const element = document.querySelector('#df-19b4b7e6-bbad-426e-84e2-5620483461eb');\n",
              "          const dataTable =\n",
              "            await google.colab.kernel.invokeFunction('convertToInteractive',\n",
              "                                                     [key], {});\n",
              "          if (!dataTable) return;\n",
              "\n",
              "          const docLinkHtml = 'Like what you see? Visit the ' +\n",
              "            '<a target=\"_blank\" href=https://colab.research.google.com/notebooks/data_table.ipynb>data table notebook</a>'\n",
              "            + ' to learn more about interactive tables.';\n",
              "          element.innerHTML = '';\n",
              "          dataTable['output_type'] = 'display_data';\n",
              "          await google.colab.output.renderOutput(dataTable, element);\n",
              "          const docLink = document.createElement('div');\n",
              "          docLink.innerHTML = docLinkHtml;\n",
              "          element.appendChild(docLink);\n",
              "        }\n",
              "      </script>\n",
              "    </div>\n",
              "  </div>\n",
              "  "
            ]
          },
          "metadata": {},
          "execution_count": 23
        }
      ]
    },
    {
      "cell_type": "code",
      "source": [
        "sum(mobile_data['Rating'] < 4)"
      ],
      "metadata": {
        "colab": {
          "base_uri": "https://localhost:8080/"
        },
        "id": "Fvr3b9uvKDF7",
        "outputId": "d3a355ff-e2a5-4cb0-b54d-f1c2fd926da8"
      },
      "execution_count": null,
      "outputs": [
        {
          "output_type": "execute_result",
          "data": {
            "text/plain": [
              "92"
            ]
          },
          "metadata": {},
          "execution_count": 67
        }
      ]
    },
    {
      "cell_type": "code",
      "source": [
        "mobile_data['target'] = mobile_data['Rating'].apply(lambda x: 1 if x > 4 else 0)"
      ],
      "metadata": {
        "id": "GiLI_BjfgBgs"
      },
      "execution_count": null,
      "outputs": []
    },
    {
      "cell_type": "code",
      "source": [
        "mobile_data['target'].value_counts()"
      ],
      "metadata": {
        "colab": {
          "base_uri": "https://localhost:8080/"
        },
        "id": "VGguNjgf99ny",
        "outputId": "e37a2b2b-6813-4653-a47a-106855d7a6d6"
      },
      "execution_count": null,
      "outputs": [
        {
          "output_type": "execute_result",
          "data": {
            "text/plain": [
              "1    191\n",
              "0    127\n",
              "Name: target, dtype: int64"
            ]
          },
          "metadata": {},
          "execution_count": 79
        }
      ]
    },
    {
      "cell_type": "code",
      "source": [
        "X = mobile_data.drop(['Rating','target'],axis = 1).values\n",
        "Y = mobile_data['target']"
      ],
      "metadata": {
        "id": "aRk9Sw-T8sTL"
      },
      "execution_count": null,
      "outputs": []
    },
    {
      "cell_type": "code",
      "source": [
        "class Perceptron:\n",
        "  def __init__(self):\n",
        "    self.w = None\n",
        "    self.b = None\n",
        "\n",
        "  def model(self,x):\n",
        "    return 1 if np.dot(self.w,x) >= self.b else 0\n",
        "\n",
        "  def predict(self, X):\n",
        "    Y = []\n",
        "    for x in X:\n",
        "      Y.append(self.model(x))\n",
        "    return np.array(Y)\n",
        "\n",
        "  def fit(self, X,Y,epochs = 100,lr = 1):\n",
        "    accuracy = {}\n",
        "    best_accuracy = 0\n",
        "    np.random.seed(9)\n",
        "    self.w = np.ones(X.shape[1])\n",
        "    self.b = 1\n",
        "    chk_w = None\n",
        "    chk_b = None\n",
        "    for epoch in range(epochs):\n",
        "      for x,y in zip(X,Y):\n",
        "        y_pred = self.model(x)\n",
        "        if y_pred == 1 and y == 0:\n",
        "          self.w = self.w - x * lr\n",
        "          self.b = self.b - 1\n",
        "        if y_pred == 0 and y == 1:\n",
        "          self.w = self.w + x *lr\n",
        "          self.b = self.b + 1\n",
        "      accuracy[epoch] = accuracy_score(self.predict(X), Y)\n",
        "      if accuracy[epoch] > best_accuracy:\n",
        "        best_accuracy = accuracy[epoch]\n",
        "        chk_w = self.w\n",
        "        chk_b = self.b\n",
        "      #print(\"Accuracy for epoch {0} is {1}\".format(epoch,accuracy[epoch]))\n",
        "    self.w = chk_w\n",
        "    self.b = chk_b\n",
        "    print(\"Best Accuracy :\",best_accuracy)\n"
      ],
      "metadata": {
        "id": "ewJU-1ah2bjh"
      },
      "execution_count": null,
      "outputs": []
    },
    {
      "cell_type": "code",
      "source": [
        "perceptron = Perceptron()\n",
        "perceptron.fit(X,Y, 300,0.01)"
      ],
      "metadata": {
        "colab": {
          "base_uri": "https://localhost:8080/"
        },
        "id": "OlSO0xDm86_e",
        "outputId": "32199a02-22f2-4b48-9989-67b629ce8937"
      },
      "execution_count": null,
      "outputs": [
        {
          "output_type": "stream",
          "name": "stdout",
          "text": [
            "Best Accuracy : 0.6383647798742138\n"
          ]
        }
      ]
    },
    {
      "cell_type": "code",
      "source": [
        "import numpy as np"
      ],
      "metadata": {
        "id": "wpQYBTa69MY0"
      },
      "execution_count": null,
      "outputs": []
    },
    {
      "cell_type": "code",
      "source": [
        "u = np.array([3,-12])\n",
        "v = np.array([-3,12])\n",
        "\n",
        "np.dot(u,v)"
      ],
      "metadata": {
        "colab": {
          "base_uri": "https://localhost:8080/"
        },
        "id": "QrODPFORa18s",
        "outputId": "49f62f0e-6602-4839-ce68-be0c42c0193c"
      },
      "execution_count": null,
      "outputs": [
        {
          "output_type": "execute_result",
          "data": {
            "text/plain": [
              "-153"
            ]
          },
          "metadata": {},
          "execution_count": 11
        }
      ]
    },
    {
      "cell_type": "code",
      "source": [
        "cosine_angle = np.dot(u,v) / (np.linalg.norm(u)*np.linalg.norm(v))\n",
        "cosine_angle"
      ],
      "metadata": {
        "colab": {
          "base_uri": "https://localhost:8080/"
        },
        "id": "5SXR8hVKbAle",
        "outputId": "2819f13a-9cf1-4084-d5ba-219cdb3e2117"
      },
      "execution_count": null,
      "outputs": [
        {
          "output_type": "execute_result",
          "data": {
            "text/plain": [
              "-1.0000000000000002"
            ]
          },
          "metadata": {},
          "execution_count": 12
        }
      ]
    },
    {
      "cell_type": "code",
      "source": [],
      "metadata": {
        "id": "iYJ8URv5bcDl"
      },
      "execution_count": null,
      "outputs": []
    }
  ]
}